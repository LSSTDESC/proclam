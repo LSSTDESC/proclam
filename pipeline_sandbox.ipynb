{
 "cells": [
  {
   "cell_type": "markdown",
   "metadata": {},
   "source": [
    "# Testing framework \"pipeline\"\n",
    "\n",
    "_Alex Malz (NYU)_"
   ]
  },
  {
   "cell_type": "code",
   "execution_count": 1,
   "metadata": {},
   "outputs": [],
   "source": [
    "import matplotlib.pyplot as plt\n",
    "%matplotlib inline"
   ]
  },
  {
   "cell_type": "code",
   "execution_count": 2,
   "metadata": {},
   "outputs": [],
   "source": [
    "import proclam\n",
    "from proclam import *"
   ]
  },
  {
   "cell_type": "markdown",
   "metadata": {},
   "source": [
    "## 1. True classes"
   ]
  },
  {
   "cell_type": "markdown",
   "metadata": {},
   "source": [
    "Import the `proclam.Simulator` superclass and the simulator subclass you want to test.  In this notebook, I'm going to use an unbalanced distribution of true classes such that the probability of an object being in class $m$ (with $0 \\leq m \\leq M$) is proportional to $10^{y}$, where $y$ is a draw from a uniform distribution $U(0,M)$."
   ]
  },
  {
   "cell_type": "code",
   "execution_count": 3,
   "metadata": {},
   "outputs": [],
   "source": [
    "from proclam.simulators import simulator\n",
    "from proclam.simulators import logunbalanced"
   ]
  },
  {
   "cell_type": "markdown",
   "metadata": {},
   "source": [
    "Create an instantiation of the simulator for the true dataset class distribution scheme.  If you use the base superclass instead of a subclass, the default scheme will be to assign all objects the same class.\n",
    "\n",
    "Then, simulate a truth catalog.  In this case, there are 3 true classes and 100 objects in the catalog.  The output will be a `numpy.ndarray` with 100 entries, each of which is the index of the class for that catalog member."
   ]
  },
  {
   "cell_type": "code",
   "execution_count": 4,
   "metadata": {},
   "outputs": [],
   "source": [
    "A = proclam.simulators.logunbalanced.LogUnbalanced(seed=None)\n",
    "truth = A.simulate(3, 100)"
   ]
  },
  {
   "cell_type": "markdown",
   "metadata": {},
   "source": [
    "We can check that the class distribution is as expected with a histogram of the true classes."
   ]
  },
  {
   "cell_type": "code",
   "execution_count": 11,
   "metadata": {},
   "outputs": [
    {
     "data": {
      "text/plain": [
       "<matplotlib.text.Text at 0x7f480e5d9190>"
      ]
     },
     "execution_count": 11,
     "metadata": {},
     "output_type": "execute_result"
    },
    {
     "data": {
      "image/png": "[encoded data removed]",
      "text/plain": [
       "<matplotlib.figure.Figure at 0x7f4810968310>"
      ]
     },
     "metadata": {},
     "output_type": "display_data"
    }
   ],
   "source": [
    "import numpy as np\n",
    "d = np.diff(np.unique(truth)).min()\n",
    "left_of_first_bin = truth.min() - float(d)/2\n",
    "right_of_last_bin = truth.max() + float(d)/2\n",
    "plt.hist(truth, np.arange(left_of_first_bin, right_of_last_bin + d, d),log=True)\n",
    "plt.xticks(range(max(truth)+1))\n",
    "\n",
    "#plt.hist(truth, log=True)\n",
    "plt.ylabel('counts')\n",
    "plt.xlabel('class number')"
   ]
  },
  {
   "cell_type": "markdown",
   "metadata": {},
   "source": [
    "## 2. Mock classifications"
   ]
  },
  {
   "cell_type": "markdown",
   "metadata": {},
   "source": [
    "Import the `proclam.Classifier` superclass and the classifier subclass you want to test.  In this notebook, I'm going to use a very stupid classifier that takes a random guess."
   ]
  },
  {
   "cell_type": "code",
   "execution_count": 6,
   "metadata": {},
   "outputs": [],
   "source": [
    "from proclam.classifiers import classifier\n",
    "from proclam.classifiers import guess"
   ]
  },
  {
   "cell_type": "markdown",
   "metadata": {},
   "source": [
    "Create an instantiation of the classifier of a particular scheme.  If you use the base superclass instead of a subclass, the default classification scheme will return the true classes.\n",
    "\n",
    "Then, \"classify\" the \"data.\"  By default, classification results will also include an extra column for \"other\" classes beyond the number in the training set, but in this example let's assume it knows of the 3 classes in the training set without leaving room for additional classes.  The output will be a `numpy.ndarray` with 100 rows and column entries representing each catalog member's posterior probability for being of each class."
   ]
  },
  {
   "cell_type": "code",
   "execution_count": 7,
   "metadata": {},
   "outputs": [
    {
     "name": "stdout",
     "output_type": "stream",
     "text": [
      "[[0.55143052 0.03184973 0.41671974]\n",
      " [0.4229171  0.27724302 0.29983988]\n",
      " [0.44455888 0.46526325 0.09017788]\n",
      " [0.2716677  0.42946889 0.29886341]\n",
      " [0.33594894 0.27187186 0.3921792 ]\n",
      " [0.13098342 0.81697257 0.05204401]\n",
      " [0.36061461 0.420955   0.21843039]\n",
      " [0.17072349 0.37506622 0.45421029]\n",
      " [0.24826945 0.36746567 0.38426489]\n",
      " [0.21453426 0.45849194 0.3269738 ]\n",
      " [0.24096167 0.27661464 0.4824237 ]\n",
      " [0.06893215 0.88289354 0.0481743 ]\n",
      " [0.1455178  0.54151732 0.31296488]\n",
      " [0.50108938 0.00608916 0.49282146]\n",
      " [0.17461447 0.4053313  0.42005424]\n",
      " [0.23167304 0.417611   0.35071596]\n",
      " [0.47278896 0.38877693 0.13843411]\n",
      " [0.1663248  0.25854612 0.57512908]\n",
      " [0.0729477  0.70725409 0.21979821]\n",
      " [0.20937004 0.54169747 0.24893249]\n",
      " [0.19640354 0.54173608 0.26186038]\n",
      " [0.06605302 0.52140066 0.41254633]\n",
      " [0.13934663 0.43395885 0.42669452]\n",
      " [0.22178159 0.36249741 0.415721  ]\n",
      " [0.10876407 0.53171335 0.35952258]\n",
      " [0.48112961 0.25126775 0.26760264]\n",
      " [0.38349667 0.44879696 0.16770636]\n",
      " [0.56262393 0.11170113 0.32567493]\n",
      " [0.14336906 0.13395317 0.72267777]\n",
      " [0.25845047 0.43785375 0.30369578]\n",
      " [0.45903428 0.17966343 0.36130229]\n",
      " [0.02816538 0.27459099 0.69724363]\n",
      " [0.33575331 0.2358324  0.42841429]\n",
      " [0.26849099 0.30868045 0.42282856]\n",
      " [0.50837564 0.32255339 0.16907097]\n",
      " [0.21329068 0.22319092 0.5635184 ]\n",
      " [0.34301241 0.0494985  0.60748908]\n",
      " [0.54521986 0.36003675 0.0947434 ]\n",
      " [0.58342913 0.31876845 0.09780243]\n",
      " [0.45585282 0.24462053 0.29952665]\n",
      " [0.50281621 0.25774037 0.23944342]\n",
      " [0.08620283 0.66991222 0.24388495]\n",
      " [0.44517349 0.34394684 0.21087967]\n",
      " [0.69420837 0.22010347 0.08568816]\n",
      " [0.31229217 0.54608326 0.14162457]\n",
      " [0.26751223 0.59261186 0.13987591]\n",
      " [0.58274398 0.32132188 0.09593415]\n",
      " [0.46616192 0.09401553 0.43982255]\n",
      " [0.44378754 0.29911405 0.25709841]\n",
      " [0.35648588 0.27224422 0.3712699 ]\n",
      " [0.22016466 0.17333807 0.60649727]\n",
      " [0.3319982  0.64786969 0.02013211]\n",
      " [0.19177795 0.58005614 0.22816591]\n",
      " [0.24468536 0.47616208 0.27915257]\n",
      " [0.91715069 0.05130945 0.03153986]\n",
      " [0.09268949 0.40512423 0.50218628]\n",
      " [0.21634165 0.48486387 0.29879449]\n",
      " [0.36697441 0.38776301 0.24526258]\n",
      " [0.43572172 0.13957551 0.42470278]\n",
      " [0.20604888 0.08718403 0.70676709]\n",
      " [0.24225914 0.32345213 0.43428873]\n",
      " [0.2982686  0.69137538 0.01035601]\n",
      " [0.32720141 0.3146218  0.35817679]\n",
      " [0.28464446 0.30478843 0.4105671 ]\n",
      " [0.72975132 0.04314275 0.22710592]\n",
      " [0.12328559 0.18298874 0.69372567]\n",
      " [0.29174913 0.33144427 0.37680661]\n",
      " [0.49684001 0.30133411 0.20182588]\n",
      " [0.18706933 0.39811547 0.41481519]\n",
      " [0.11157373 0.67614141 0.21228487]\n",
      " [0.29523489 0.35065829 0.35410682]\n",
      " [0.78778683 0.08185405 0.13035912]\n",
      " [0.22618501 0.41106201 0.36275298]\n",
      " [0.49803373 0.09485936 0.40710691]\n",
      " [0.06771243 0.40556254 0.52672503]\n",
      " [0.15727815 0.2909035  0.55181835]\n",
      " [0.56130783 0.40568229 0.03300988]\n",
      " [0.25153318 0.47529808 0.27316874]\n",
      " [0.36005493 0.45167771 0.18826736]\n",
      " [0.24231848 0.35096061 0.40672092]\n",
      " [0.30525432 0.61750374 0.07724194]\n",
      " [0.47928148 0.46221936 0.05849917]\n",
      " [0.26020087 0.3259881  0.41381103]\n",
      " [0.48100625 0.43327213 0.08572162]\n",
      " [0.05920662 0.26180463 0.67898875]\n",
      " [0.36618547 0.39864354 0.23517098]\n",
      " [0.12932615 0.79103326 0.07964059]\n",
      " [0.6575478  0.14086954 0.20158266]\n",
      " [0.1186995  0.41566235 0.46563815]\n",
      " [0.43769615 0.28828897 0.27401488]\n",
      " [0.01642972 0.73799441 0.24557587]\n",
      " [0.33437895 0.14945056 0.51617049]\n",
      " [0.08050637 0.70568914 0.21380449]\n",
      " [0.32675914 0.07580465 0.59743621]\n",
      " [0.05647954 0.4580395  0.48548096]\n",
      " [0.21319993 0.66896147 0.1178386 ]\n",
      " [0.46157943 0.36354313 0.17487744]\n",
      " [0.33658307 0.34881644 0.31460048]\n",
      " [0.42545924 0.44906584 0.12547493]\n",
      " [0.0038583  0.3656501  0.6304916 ]]\n"
     ]
    }
   ],
   "source": [
    "B = proclam.classifiers.guess.Guess(seed=None)\n",
    "prediction = B.classify(3, truth, other=False)\n",
    "print(prediction)"
   ]
  },
  {
   "cell_type": "markdown",
   "metadata": {},
   "source": [
    "## 3. Metric values"
   ]
  },
  {
   "cell_type": "markdown",
   "metadata": {},
   "source": [
    "Import the `proclam.Metric` superclass and the metric subclass you want to test.  I haven't implemented any `Metric` subclasses yet, so we'll have to make do with the base superclass."
   ]
  },
  {
   "cell_type": "code",
   "execution_count": 8,
   "metadata": {},
   "outputs": [],
   "source": [
    "from proclam.metrics import metric"
   ]
  },
  {
   "cell_type": "markdown",
   "metadata": {},
   "source": [
    "Create an instantiation of the metric.  The default behavior of the base superclass is to take the maximum probability class as the true class and calculate an accuracy, equally weighting over all catalog members.\n",
    "\n",
    "Then, calculate the metric value."
   ]
  },
  {
   "cell_type": "code",
   "execution_count": 9,
   "metadata": {},
   "outputs": [
    {
     "name": "stdout",
     "output_type": "stream",
     "text": [
      "No metric specified: returning true positive rate based on maximum value\n",
      "0.01\n"
     ]
    }
   ],
   "source": [
    "C = proclam.metrics.metric.Metric()\n",
    "performance = C.evaluate(prediction, truth)\n",
    "print(performance)"
   ]
  },
  {
   "cell_type": "markdown",
   "metadata": {},
   "source": [
    "# Next steps"
   ]
  },
  {
   "cell_type": "markdown",
   "metadata": {},
   "source": [
    "Once there are more simulators, classifiers, and metrics, we'll loop over tests and plot comparisons.  Stay tuned for more!"
   ]
  },
  {
   "cell_type": "code",
   "execution_count": null,
   "metadata": {},
   "outputs": [],
   "source": []
  }
 ],
 "metadata": {
  "anaconda-cloud": {},
  "kernelspec": {
   "display_name": "Python 3 (not)",
   "language": "python",
   "name": "python3"
  },
  "language_info": {
   "codemirror_mode": {
    "name": "ipython",
    "version": 2
   },
   "file_extension": ".py",
   "mimetype": "text/x-python",
   "name": "python",
   "nbconvert_exporter": "python",
   "pygments_lexer": "ipython2",
   "version": "2.7.14"
  }
 },
 "nbformat": 4,
 "nbformat_minor": 2
}
