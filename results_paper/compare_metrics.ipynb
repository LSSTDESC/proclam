{
 "cells": [
  {
   "cell_type": "code",
   "execution_count": null,
   "metadata": {},
   "outputs": [],
   "source": [
    "import numpy as np\n",
    "import pandas as pd\n",
    "import pickle\n",
    "\n",
    "import matplotlib as mpl\n",
    "# print(mpl.rcParams.items)\n",
    "mpl.use('Agg')\n",
    "mpl.rcParams['text.usetex'] = False\n",
    "mpl.rcParams['mathtext.rm'] = 'serif'\n",
    "mpl.rcParams['font.family'] = 'serif'\n",
    "mpl.rcParams['font.serif'] = ['Times New Roman']\n",
    "# mpl.rcParams['font.family'] = ['Times New Roman']\n",
    "mpl.rcParams['axes.titlesize'] = 25\n",
    "mpl.rcParams['axes.labelsize'] = 20\n",
    "mpl.rcParams['xtick.labelsize'] = 15\n",
    "mpl.rcParams['ytick.labelsize'] = 15\n",
    "mpl.rcParams['savefig.dpi'] = 250\n",
    "mpl.rcParams['figure.dpi'] = 250\n",
    "mpl.rcParams['savefig.format'] = 'pdf'\n",
    "mpl.rcParams['savefig.bbox'] = 'tight'\n",
    "import matplotlib.pyplot as plt\n",
    "%matplotlib inline"
   ]
  },
  {
   "cell_type": "code",
   "execution_count": null,
   "metadata": {},
   "outputs": [],
   "source": [
    "def truncate_colormap(cmap, minval=0.0, maxval=1.0, n=100):\n",
    "    new_cmap = mpl.colors.LinearSegmentedColormap.from_list(\n",
    "        'trunc({n},{a:.2f},{b:.2f})'.format(n=cmap.name, a=minval, b=maxval),\n",
    "        cmap(np.linspace(minval, maxval, n)))\n",
    "    return new_cmap\n",
    "\n",
    "cmap = plt.get_cmap('hot_r')\n",
    "fave_cmap = truncate_colormap(cmap, 0.35, 1.0)"
   ]
  },
  {
   "cell_type": "code",
   "execution_count": null,
   "metadata": {},
   "outputs": [],
   "source": [
    "import os\n",
    "os.getcwd()"
   ]
  },
  {
   "cell_type": "code",
   "execution_count": null,
   "metadata": {},
   "outputs": [],
   "source": [
    "# metric_vals = pd.read_csv('results_paper/metrics_vals.txt', delimiter='\\t', skiprows=1, names=('garbage', 'PLAsTiCC-weighted LogLoss', 'Brier score', 'unweighted LogLoss'))\n",
    "metric_vals = pd.read_csv('metrics_vals.txt', delimiter='\\t', skiprows=1, names=('garbage', 'PLAsTiCC', 'Brier', 'LogLoss')).drop(columns='garbage')"
   ]
  },
  {
   "cell_type": "code",
   "execution_count": null,
   "metadata": {},
   "outputs": [],
   "source": [
    "metric_vals"
   ]
  },
  {
   "cell_type": "code",
   "execution_count": null,
   "metadata": {},
   "outputs": [],
   "source": [
    "contestants = metric_vals.index\n",
    "metrics = metric_vals.columns\n",
    "\n",
    "print((contestants, metrics))"
   ]
  },
  {
   "cell_type": "code",
   "execution_count": null,
   "metadata": {},
   "outputs": [],
   "source": [
    "color_dict = {'kyleboone': '#6344EE', 'mikensilogram': '#E873AB', 'majortom': '#FFB81F'}#, 'validation': '#30362F'}"
   ]
  },
  {
   "cell_type": "code",
   "execution_count": null,
   "metadata": {},
   "outputs": [],
   "source": [
    "ranked = metric_vals.transpose().rank(axis=1)"
   ]
  },
  {
   "cell_type": "code",
   "execution_count": null,
   "metadata": {},
   "outputs": [],
   "source": [
    "rank_dict = ranked.to_dict(orient='list')\n",
    "rank_dict"
   ]
  },
  {
   "cell_type": "code",
   "execution_count": null,
   "metadata": {},
   "outputs": [],
   "source": [
    "plt.figure()\n",
    "for contestant in contestants:\n",
    "    plt.plot(rank_dict[contestant], label=contestant, color=color_dict[contestant])\n",
    "\n",
    "plt.legend(loc='center left', bbox_to_anchor=(1, 0.5), prop={'size': 12})\n",
    "plt.xticks([0, 1, 2], metrics)\n",
    "plt.yticks(range(1, 4))\n",
    "plt.ylabel('Rank')"
   ]
  },
  {
   "cell_type": "code",
   "execution_count": null,
   "metadata": {},
   "outputs": [],
   "source": [
    "ranges = metric_vals.to_dict(orient='list')\n",
    "ranges"
   ]
  },
  {
   "cell_type": "code",
   "execution_count": null,
   "metadata": {},
   "outputs": [],
   "source": [
    "def val_to_rank_plot(metric):\n",
    "    one_range = (np.array(ranges[metric]) - min(ranges[metric])) * float(len(ranges[metric]) - 1) / (max(ranges[metric]) - min(ranges[metric])) + 1.\n",
    "    print((metric, one_range))\n",
    "    return(one_range)"
   ]
  },
  {
   "cell_type": "code",
   "execution_count": null,
   "metadata": {},
   "outputs": [],
   "source": [
    "plot_metrics"
   ]
  },
  {
   "cell_type": "code",
   "execution_count": null,
   "metadata": {},
   "outputs": [],
   "source": [
    "plot_metrics = metric_vals.copy()\n",
    "for metric in plot_metrics.columns:\n",
    "    plot_metrics[metric] = val_to_rank_plot(metric)\n",
    "    \n",
    "plot_metrics"
   ]
  },
  {
   "cell_type": "code",
   "execution_count": null,
   "metadata": {},
   "outputs": [],
   "source": [
    "plt.figure()\n",
    "for j, contestant in enumerate(contestants):\n",
    "    plt.plot(plot_metrics.transpose()[contestant], label=contestant, color=color_dict[contestant])\n",
    "    for i, metric in enumerate(plot_metrics.columns):\n",
    "        plt.text(i, plot_metrics.transpose()[contestant][metric], str(round(ranges[metric][j], 3)))\n",
    "\n",
    "plt.legend(loc='center left', bbox_to_anchor=(1, 0.5), prop={'size': 12})\n",
    "plt.xticks([0, 1, 2], metrics)\n",
    "plt.yticks([])\n",
    "plt.ylabel('relative value')\n",
    "plt.savefig('new_fig_5.png')"
   ]
  },
  {
   "cell_type": "markdown",
   "metadata": {},
   "source": [
    "## scratch"
   ]
  },
  {
   "cell_type": "code",
   "execution_count": null,
   "metadata": {},
   "outputs": [],
   "source": [
    "colors = {'kyleboone': '#6344EE', 'mikensilogram': '#E873AB', 'majortom': '#FFB81F'}"
   ]
  },
  {
   "cell_type": "code",
   "execution_count": null,
   "metadata": {},
   "outputs": [],
   "source": [
    "# metric_vals.transpose()"
   ]
  },
  {
   "cell_type": "code",
   "execution_count": null,
   "metadata": {},
   "outputs": [],
   "source": [
    "# mins = metric_vals.transpose().min()\n",
    "# maxs = metric_vals.transpose().max()\n",
    "# grids = {metric: np.linspace(mins[metric], maxs[metric], 10) for metric in metrics}\n",
    "# grids"
   ]
  },
  {
   "cell_type": "code",
   "execution_count": null,
   "metadata": {},
   "outputs": [],
   "source": [
    "grids.keys()"
   ]
  },
  {
   "cell_type": "code",
   "execution_count": null,
   "metadata": {},
   "outputs": [],
   "source": [
    "plt.figure()\n",
    "for contestant in contestants:\n",
    "    for metric in metrics:\n",
    "        plt.scatter(metric_vals.transpose[contestant], label=contestant, color=colors[contestant])\n",
    "\n",
    "plt.legend(loc='center left', bbox_to_anchor=(1, 0.5), prop={'size': 12})\n",
    "plt.xticks([0, 1, 2], metrics)\n",
    "plt.yticks(range(1, 4))\n",
    "plt.ylabel('Relative Value')"
   ]
  },
  {
   "cell_type": "code",
   "execution_count": null,
   "metadata": {},
   "outputs": [],
   "source": [
    "symbols = {'TBDT':'o',\n",
    "           'TKNN':'d',\n",
    "           'TNB':'s',\n",
    "           'TNN':'*',\n",
    "           'TSVM':'^',\n",
    "           'WBDT':'o',\n",
    "           'WKNN':'d',\n",
    "           'WNB':'s',\n",
    "           'WNN':'*',\n",
    "           'WSVM':'^',\n",
    "          }\n",
    "\n",
    "colors = {'TBDT':fave_cmap(0.05),\n",
    "           'TKNN':fave_cmap(0.3),\n",
    "           'TNB':fave_cmap(0.55),\n",
    "           'TNN':fave_cmap(0.8),\n",
    "           'TSVM':fave_cmap(1.0),\n",
    "           'WBDT':fave_cmap(0.05),\n",
    "           'WKNN':fave_cmap(0.3),\n",
    "           'WNB':fave_cmap(0.55),\n",
    "           'WNN':fave_cmap(0.75),\n",
    "           'WSVM':fave_cmap(1.0),\n",
    "          }\n",
    "\n",
    "\n",
    "plt.figure()\n",
    "for contestant in metric_dict['index']\n",
    "    plt.plot(d, label=key, marker=symbols[key], ls='--', color=colors[key])\n",
    "    else:\n",
    "        plt.plot(val, label=key, marker=symbols[key], color=colors[key])\n",
    "\n",
    "plt.legend(loc='center left', bbox_to_anchor=(1, 0.5), prop={'size': 12})\n",
    "plt.xticks([0, 1, 2], ['FoM', 'LogLoss', 'Brier'])\n",
    "plt.yticks(np.arange(1, 11))\n",
    "plt.ylabel('Rank')\n",
    "\n",
    "#plt.savefig('Tables3_option1.pdf')"
   ]
  },
  {
   "cell_type": "code",
   "execution_count": null,
   "metadata": {},
   "outputs": [],
   "source": [
    "\n",
    "colors = {'TBDT':fave_cmap(0.05),\n",
    "           'TKNN':fave_cmap(0.2375),\n",
    "           'TNB':fave_cmap(0.54),\n",
    "           'TNN':fave_cmap(0.712499999),\n",
    "           'TSVM':fave_cmap(1.0),\n",
    "           'WBDT':fave_cmap(0.05),\n",
    "           'WKNN':fave_cmap(0.2375),\n",
    "           'WNB':fave_cmap(0.54),\n",
    "           'WNN':fave_cmap(0.712499999),\n",
    "           'WSVM':fave_cmap(1.0),\n",
    "          }\n",
    "\n",
    "plt.figure()\n",
    "for key, value in metric_dictionary.items():\n",
    "    val = []\n",
    "    for k, v in value.items():\n",
    "        val.append(v)\n",
    "    if 'W' in key:\n",
    "        plt.plot(val, label=key, marker=symbols[key], ls='--', color=colors[key], lw=2, ms=7, alpha=0.3)\n",
    "    else:\n",
    "        plt.plot(val, label=key, marker=symbols[key], color=colors[key], lw=2, ms=7)\n",
    "\n",
    "plt.legend(loc='center left', bbox_to_anchor=(1, 0.5), prop={'size': 12})\n",
    "plt.xticks([0, 1, 2], ['FoM', 'LogLoss', 'Brier'])\n",
    "plt.yticks(np.arange(1, 11))\n",
    "plt.ylabel('Rank')\n",
    "plt.gca().invert_yaxis()\n",
    "\n",
    "#plt.savefig('Tables3_option4.pdf')"
   ]
  },
  {
   "cell_type": "code",
   "execution_count": null,
   "metadata": {},
   "outputs": [],
   "source": [
    "plt.figure()\n",
    "\n",
    "fom = []\n",
    "ll = []\n",
    "brier = []\n",
    "\n",
    "for key, value in metric_dictionary.items():\n",
    "    fom.append(value['FoM'])\n",
    "    ll.append(value['LogLoss'])\n",
    "    brier.append(value['Brier'])\n",
    "\n",
    "plt.plot(fom, label='FoM', marker='o')\n",
    "plt.plot(ll, label='LogLoss', marker='D', alpha = 0.5)\n",
    "plt.plot(brier, label='Brier', marker='s', alpha=0.23)\n",
    "\n",
    "plt.legend(loc='center left', bbox_to_anchor=(1, 0.5), prop={'size': 12})\n",
    "plt.xticks(np.arange(0, 10), list(metric_dictionary.keys()), rotation=45)\n",
    "plt.ylabel('Rank')\n",
    "plt.savefig('Tables3_option2.pdf')"
   ]
  },
  {
   "cell_type": "code",
   "execution_count": null,
   "metadata": {},
   "outputs": [],
   "source": []
  }
 ],
 "metadata": {
  "kernelspec": {
   "display_name": "proclam (Python 3)",
   "language": "python",
   "name": "proclam_3"
  },
  "language_info": {
   "codemirror_mode": {
    "name": "ipython",
    "version": 2
   },
   "file_extension": ".py",
   "mimetype": "text/x-python",
   "name": "python",
   "nbconvert_exporter": "python",
   "pygments_lexer": "ipython2",
   "version": "2.7.18rc1"
  }
 },
 "nbformat": 4,
 "nbformat_minor": 2
}
