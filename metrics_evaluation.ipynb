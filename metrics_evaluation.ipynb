{
 "cells": [
  {
   "cell_type": "markdown",
   "metadata": {},
   "source": [
    "# Metrics evaluation notebook\n",
    "\n",
    "_Alex Malz (NYU)_\n",
    "_Renee Hlozek (Toronto)_\n",
    "_Rahul Biswas (Stockholm University)_\n",
    "_Tarek Alam (UCL)_\n",
    "_Rafael Martinez-Galarza (Harvard)_\n",
    "_Anita Bahmanyar (Toronto)_\n"
   ]
  },
  {
   "cell_type": "markdown",
   "metadata": {},
   "source": [
    "This notebook defines the metrics (and corresponding truth tables) to be run via an input file and to produce plots based on the output."
   ]
  },
  {
   "cell_type": "code",
   "execution_count": null,
   "metadata": {},
   "outputs": [],
   "source": [
    "import string\n",
    "import itertools\n",
    "import random\n",
    "import numpy as np\n",
    "import sklearn as skl\n",
    "from sklearn import metrics\n",
    "import pandas\n",
    "\n",
    "import proclam\n",
    "from proclam import *"
   ]
  },
  {
   "cell_type": "code",
   "execution_count": null,
   "metadata": {},
   "outputs": [],
   "source": [
    "import matplotlib as mpl\n",
    "# import matplotlib.pyplot as plt\n",
    "mpl.use('Agg')\n",
    "mpl.rcParams['text.usetex'] = False\n",
    "mpl.rcParams['mathtext.rm'] = 'serif'\n",
    "mpl.rcParams['font.family'] = 'serif'\n",
    "mpl.rcParams['font.serif'] = 'Times New Roman'\n",
    "mpl.rcParams['axes.titlesize'] = 16\n",
    "mpl.rcParams['axes.labelsize'] = 14\n",
    "mpl.rcParams['savefig.dpi'] = 250\n",
    "mpl.rcParams['savefig.format'] = 'pdf'\n",
    "mpl.rcParams['savefig.bbox'] = 'tight'\n",
    "import matplotlib.pyplot as plt\n",
    "%matplotlib inline"
   ]
  },
  {
   "cell_type": "code",
   "execution_count": null,
   "metadata": {},
   "outputs": [],
   "source": [
    "def make_patch_spines_invisible(ax):\n",
    "    ax.set_frame_on(True)\n",
    "    ax.patch.set_visible(False)\n",
    "    for sp in ax.spines.values():\n",
    "        sp.set_visible(False)\n",
    "        \n",
    "def per_metric_helper(ax, n, data, metric_names, codes, shapes, colors):\n",
    "    plot_n = n+1\n",
    "    in_x = np.arange(len(codes))\n",
    "    ax_n = ax\n",
    "#     ax.scatter(in_x, [-1]*len(codes), color='k', alpha=0, marker=shapes[n], s=50, label=metric_names[n])\n",
    "    n_factor = 0.1 * (plot_n - 2)\n",
    "    if plot_n>1:\n",
    "        ax_n = ax.twinx()\n",
    "        rot_ang = 270\n",
    "        label_space = 15.\n",
    "    else:\n",
    "        rot_ang = 90\n",
    "        label_space = 0.\n",
    "    if plot_n>2:\n",
    "        ax_n.spines[\"right\"].set_position((\"axes\", 1. + 0.1 * (plot_n-1)))\n",
    "        make_patch_spines_invisible(ax_n)\n",
    "        ax_n.spines[\"right\"].set_visible(True)\n",
    "    \n",
    "#     if n != 0:\n",
    "#         data[n] *= -1.\n",
    "#     ax_n.semilogy()\n",
    "        \n",
    "    print('trying to plot')\n",
    "    print((in_x+n_factor*np.ones_like(data[n]), data[n]))\n",
    "    handle = ax_n.scatter(in_x+n_factor*np.ones_like(data[n]), data[n], marker=shapes[plot_n], s=10, color=colors[n], label=metric_names[n])\n",
    "    ax_n.set_ylabel(metric_names[n], rotation=rot_ang, fontsize=14, labelpad=label_space)\n",
    "    print('plotted '+metric_names[n]+': '+str(data[n]))\n",
    "    return(ax, ax_n, handle)\n",
    "\n",
    "def metric_plot(codes, metric_names, data, shapes, colors):\n",
    "    xs = np.arange(len(codes))\n",
    "    \n",
    "    fig, ax = plt.subplots()\n",
    "    fig.subplots_adjust(right=1.)\n",
    "    handles = []\n",
    "#     for name in metric_names:\n",
    "#         handles.append(ax.scatter([0], [0], alpha=0.))\n",
    "    for n in range(len(metric_names)):\n",
    "        (ax, ax_n, handle) = per_metric_helper(ax, n, data, metric_names, codes, shapes, colors)\n",
    "        handles.append(handle)\n",
    "#     plt.xticklabels(codes)\n",
    "    plt.xticks(xs, codes)#, rotation='vertical')\n",
    "    for tick in ax.get_xticklabels():\n",
    "        tick.set_rotation(45)\n",
    "    plt.xlabel('Classifiers', fontsize=14)\n",
    "    plt.legend(handles, metric_names)\n",
    "    plt.savefig('metrics.png')\n",
    "    return(fig)"
   ]
  },
  {
   "cell_type": "markdown",
   "metadata": {
    "collapsed": true
   },
   "source": [
    "## Define the inputs"
   ]
  },
  {
   "cell_type": "code",
   "execution_count": null,
   "metadata": {},
   "outputs": [],
   "source": [
    "metricslist = ['Brier', 'LogLoss']\n",
    "colors = ['b', 'r']\n",
    "n_symb = 5\n",
    "shapes = [(n_symb, 3, 0), (n_symb, 0, 0), (n_symb, 1, 0), (n_symb, 2, 0)]\n",
    "dirname = 'proclam/classification_probabilities/'\n",
    "names = ['RandomForest', 'KNeighbors', 'MLPNeuralNet']\n",
    "\n",
    "classifications = ['%s/predicted_prob_%s.csv'%(name,name) for name in names] #, 'KNeighbors/predicted_prob_KNeighbors.csv', 'MLPNeuralNet/predicted_prob_MLPNeuralNet.csv']\n",
    "truth_tables = ['%s/truth_table_%s.csv'%(name,name) for name in names] #, 'KNeighbors/truth_table_KNeighbors.csv', 'MLPNeuralNet/truth_table_MLPNeuralNet.csv']\n",
    "print(np.shape(truth_tables))\n",
    "class_pairs = zip(classifications, truth_tables)\n"
   ]
  },
  {
   "cell_type": "code",
   "execution_count": null,
   "metadata": {},
   "outputs": [],
   "source": [
    "def read_class_pairs(pair):\n",
    "    import pandas as pd\n",
    "    clfile = pair[0]\n",
    "    truthfile = pair[1]\n",
    "\n",
    "    prob_mat = pd.read_csv(dirname+clfile, delim_whitespace=True).values\n",
    "    nobj = np.shape(prob_mat)[0]\n",
    "    nclass = np.shape(prob_mat)[1]\n",
    "    print(nclass,nobj)\n",
    "    truth_values = pd.read_csv(dirname+truthfile, delim_whitespace=True).values\n",
    "    nobj_truth = np.shape(truth_values)[0]\n",
    "    nclass_truth = np.shape(truth_values)[1]\n",
    "    print(nclass_truth, nobj_truth)\n",
    "    tvec = np.where(truth_values==1)[1]\n",
    "    if nclass_truth!= nclass:\n",
    "        print('Truth table of size %i x %i and prob matrix of size %i x %i do not match up in size'%(nobj,nclass,nobj_truth,nclass_truth))\n",
    "    else:\n",
    "        print('Considering classifications with %i classes'%nclass)\n",
    "    pmat = prob_mat\n",
    "    return pmat, tvec"
   ]
  },
  {
   "cell_type": "code",
   "execution_count": null,
   "metadata": {},
   "outputs": [],
   "source": [
    "markerlist = ['s', '*', 'o']\n",
    "# plt.figure(2, figsize=(10,8))\n",
    "data = np.empty((len(metricslist), len(names)))\n",
    "print('data shape'+str(np.shape(data)))\n",
    "for cc, pair in enumerate(class_pairs):\n",
    "    probm, truthv = read_class_pairs(pair)\n",
    "    for count, metric in enumerate(metricslist):\n",
    "        print('Using metric %s'%metric)\n",
    "        D = getattr(proclam.metrics, metric)()\n",
    "        hm = D.evaluate(probm,truthv)\n",
    "        print(hm)\n",
    "        print('indices'+str((cc, count)))\n",
    "        data[count][cc] = hm\n",
    "print(np.shape(data)) \n",
    "#         plt.plot(cc, hm, marker=markerlist[count])\n",
    "        \n",
    "#     plt.ylabel('Brier score')\n",
    "#     plt.xlabel('Metrics')\n",
    "#    ax = pl.gca()\n",
    "#    ax.set_xticklabels(names)\n",
    "    #print(cm, tm)\n",
    "#from proclam.simulators import simulator\n",
    "#from proclam.simulators import logunbalanced\n",
    "metric_plot(names, metricslist, data, markerlist, colors)"
   ]
  },
  {
   "cell_type": "code",
   "execution_count": null,
   "metadata": {},
   "outputs": [],
   "source": [
    "# make a plot of classifier on the x-axis and metric score on the y-axis\n"
   ]
  },
  {
   "cell_type": "code",
   "execution_count": null,
   "metadata": {},
   "outputs": [],
   "source": []
  }
 ],
 "metadata": {
  "anaconda-cloud": {},
  "kernelspec": {
   "display_name": "Python 3",
   "language": "python",
   "name": "python3"
  },
  "language_info": {
   "codemirror_mode": {
    "name": "ipython",
    "version": 3
   },
   "file_extension": ".py",
   "mimetype": "text/x-python",
   "name": "python",
   "nbconvert_exporter": "python",
   "pygments_lexer": "ipython3",
   "version": "3.6.5"
  }
 },
 "nbformat": 4,
 "nbformat_minor": 2
}
