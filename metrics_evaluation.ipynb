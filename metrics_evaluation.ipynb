{
 "cells": [
  {
   "cell_type": "markdown",
   "metadata": {},
   "source": [
    "# Metrics evaluation notebook\n",
    "\n",
    "_Alex Malz (NYU)_\n",
    "_Renee Hlozek (Toronto)_\n",
    "_Rahul Biswas (Stockholm University)_\n",
    "_Tarek Alam (UCL)_\n",
    "_Rafael Martinez-Galarza (Harvard)_\n",
    "_Anita Bahmanyar (Toronto)_\n"
   ]
  },
  {
   "cell_type": "markdown",
   "metadata": {},
   "source": [
    "This notebook defines the metrics (and corresponding truth tables) to be run via an input file and to produce plots based on the output."
   ]
  },
  {
   "cell_type": "code",
   "execution_count": null,
   "metadata": {
    "collapsed": true
   },
   "outputs": [],
   "source": [
    "import string\n",
    "import itertools\n",
    "import random\n",
    "import numpy as np\n",
    "import sklearn as skl\n",
    "from sklearn import metrics\n",
    "import pylab as pl\n",
    "import matplotlib.pyplot as plt\n",
    "%matplotlib inline\n",
    "import proclam\n",
    "from proclam import *"
   ]
  },
  {
   "cell_type": "markdown",
   "metadata": {
    "collapsed": true
   },
   "source": [
    "## Define the inputs"
   ]
  },
  {
   "cell_type": "code",
   "execution_count": null,
   "metadata": {},
   "outputs": [],
   "source": [
    "metricslist = ['Brier']\n",
    "dirname = 'proclam/classification_probabilities/'\n",
    "names = ['RandomForest', 'KNeighbors', 'MLPNeuralNet']\n",
    "\n",
    "classifications = ['%s/predicted_prob_%s.csv'%(name,name) for name in names] #, 'KNeighbors/predicted_prob_KNeighbors.csv', 'MLPNeuralNet/predicted_prob_MLPNeuralNet.csv']\n",
    "truth_tables = ['%s/truth_table_%s.csv'%(name,name) for name in names] #, 'KNeighbors/truth_table_KNeighbors.csv', 'MLPNeuralNet/truth_table_MLPNeuralNet.csv']\n",
    "print(np.shape(truth_tables))\n",
    "class_pairs = zip(classifications, truth_tables)\n"
   ]
  },
  {
   "cell_type": "code",
   "execution_count": null,
   "metadata": {
    "collapsed": true
   },
   "outputs": [],
   "source": [
    "def read_class_pairs(pair):\n",
    "    import pandas as pd\n",
    "    clfile = pair[0]\n",
    "    truthfile = pair[1]\n",
    "\n",
    "    prob_mat = pd.read_csv(dirname+clfile, delim_whitespace=True).values\n",
    "    nobj = np.shape(prob_mat)[0]\n",
    "    nclass = np.shape(prob_mat)[1]\n",
    "    print(nclass,nobj)\n",
    "    truth_values = pd.read_csv(dirname+truthfile, delim_whitespace=True).values\n",
    "    nobj_truth = np.shape(truth_values)[0]\n",
    "    nclass_truth = np.shape(truth_values)[1]\n",
    "    print(nclass_truth, nobj_truth)\n",
    "    tvec = np.where(truth_values==1)[1]\n",
    "    if nclass_truth!= nclass:\n",
    "        print('Truth table of size %i x %i and prob matrix of size %i x %i do not match up in size'%(nobj,nclass,nobj_truth,nclass_truth))\n",
    "    else:\n",
    "        print('Considering classifications with %i classes'%nclass)\n",
    "    pmat = prob_mat\n",
    "    return pmat, tvec"
   ]
  },
  {
   "cell_type": "code",
   "execution_count": null,
   "metadata": {},
   "outputs": [],
   "source": [
    "markerlist = ['s', '*', 'o']\n",
    "pl.figure(2, figsize=(10,8))\n",
    "for cc, pair in enumerate(class_pairs):\n",
    "    probm, truthv = read_class_pairs(pair)\n",
    "    for count, metric in enumerate(metricslist):\n",
    "        print('Using metric %s'%metric)\n",
    "        D = getattr(proclam.metrics, metric)()\n",
    "        hm = D.evaluate(probm,truthv)\n",
    "        print(hm)\n",
    "        \n",
    "        \n",
    "        pl.plot(cc, hm, marker=markerlist[count])\n",
    "        \n",
    "    pl.ylabel('Brier score')\n",
    "    pl.xlabel('Metrics')\n",
    "#    ax = pl.gca()\n",
    "#    ax.set_xticklabels(names)\n",
    "    #print(cm, tm)\n",
    "#from proclam.simulators import simulator\n",
    "#from proclam.simulators import logunbalanced"
   ]
  },
  {
   "cell_type": "code",
   "execution_count": null,
   "metadata": {
    "collapsed": true
   },
   "outputs": [],
   "source": [
    "# make a plot of classifier on the x-axis and metric score on the y-axis"
   ]
  },
  {
   "cell_type": "code",
   "execution_count": null,
   "metadata": {
    "collapsed": true
   },
   "outputs": [],
   "source": []
  }
 ],
 "metadata": {
  "anaconda-cloud": {},
  "kernelspec": {
   "display_name": "Python 3",
   "language": "python",
   "name": "python3"
  },
  "language_info": {
   "codemirror_mode": {
    "name": "ipython",
    "version": 3
   },
   "file_extension": ".py",
   "mimetype": "text/x-python",
   "name": "python",
   "nbconvert_exporter": "python",
   "pygments_lexer": "ipython3",
   "version": "3.6.3"
  }
 },
 "nbformat": 4,
 "nbformat_minor": 2
}
