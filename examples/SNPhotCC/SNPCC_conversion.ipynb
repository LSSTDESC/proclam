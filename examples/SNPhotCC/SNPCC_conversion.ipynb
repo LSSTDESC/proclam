{
 "cells": [
  {
   "cell_type": "code",
   "execution_count": 5,
   "metadata": {
    "collapsed": true
   },
   "outputs": [],
   "source": [
    "import numpy as np\n",
    "import scipy as sp\n",
    "import proclam"
   ]
  },
  {
   "cell_type": "code",
   "execution_count": 34,
   "metadata": {},
   "outputs": [
    {
     "name": "stdout",
     "output_type": "stream",
     "text": [
      "20216\n",
      "[ 3.  1.  1. ...,  0.  0.  0.]\n",
      "[ 1. -1. -1. ..., -1. -1. -1.]\n"
     ]
    }
   ],
   "source": [
    "types = np.diag([1,2,3])\n",
    "truth = np.loadtxt('../classifications/SNPhotCC/TemplatesKNN/truth_table_TemplatesKNN.csv', unpack=True)\n",
    "snid, bbclass, dummy, dummy = np.loadtxt('SNphotCC_Bassett/JEDI_combo_1.dat', unpack=True)\n",
    "truth=np.transpose(truth)\n",
    "truth_vec = np.zeros(np.shape(truth)[0])\n",
    "print(np.shape(truth)[0])\n",
    "      \n",
    "for i,tru in enumerate(truth[0]):\n",
    "    truth_vec[i]= np.sum(truth[i,:]*types)\n",
    "print(truth_vec)\n",
    "truth_vec=truth_vec[0:len(bbclass)]\n",
    "print(bbclass)"
   ]
  },
  {
   "cell_type": "code",
   "execution_count": 3,
   "metadata": {
    "collapsed": true
   },
   "outputs": [],
   "source": []
  },
  {
   "cell_type": "code",
   "execution_count": 37,
   "metadata": {},
   "outputs": [
    {
     "name": "stdout",
     "output_type": "stream",
     "text": [
      "(array([-1.,  1.]), array([11266,  7055])) (array([ 0.,  1.,  3.]), array([18318,     2,     1]))\n",
      "((18321,), (18321,)) 4\n",
      "[11264     2  7054     1]\n"
     ]
    },
    {
     "ename": "IndexError",
     "evalue": "arrays used as indices must be of integer (or boolean) type",
     "output_type": "error",
     "traceback": [
      "\u001b[0;31m---------------------------------------------------------------------------\u001b[0m",
      "\u001b[0;31mIndexError\u001b[0m                                Traceback (most recent call last)",
      "\u001b[0;32m<ipython-input-37-30377395dd09>\u001b[0m in \u001b[0;36m<module>\u001b[0;34m()\u001b[0m\n\u001b[0;32m----> 1\u001b[0;31m \u001b[0mproclam\u001b[0m\u001b[0;34m.\u001b[0m\u001b[0mdet_to_cm\u001b[0m\u001b[0;34m(\u001b[0m\u001b[0mbbclass\u001b[0m\u001b[0;34m,\u001b[0m \u001b[0mtruth_vec\u001b[0m\u001b[0;34m,\u001b[0m\u001b[0mvb\u001b[0m\u001b[0;34m=\u001b[0m\u001b[0;32mTrue\u001b[0m\u001b[0;34m)\u001b[0m\u001b[0;34m\u001b[0m\u001b[0m\n\u001b[0m",
      "\u001b[0;32m~/anaconda3/lib/python3.6/site-packages/proclam-0.1-py3.6.egg/proclam/metrics/util.py\u001b[0m in \u001b[0;36mdet_to_cm\u001b[0;34m(dets, truth, per_class_norm, vb)\u001b[0m\n\u001b[1;32m    135\u001b[0m     \u001b[0mindices\u001b[0m \u001b[0;34m=\u001b[0m \u001b[0mindices\u001b[0m\u001b[0;34m.\u001b[0m\u001b[0mT\u001b[0m\u001b[0;34m\u001b[0m\u001b[0m\n\u001b[1;32m    136\u001b[0m     \u001b[0;31m# if vb: print(np.shape(indices))\u001b[0m\u001b[0;34m\u001b[0m\u001b[0;34m\u001b[0m\u001b[0m\n\u001b[0;32m--> 137\u001b[0;31m     \u001b[0mcm\u001b[0m\u001b[0;34m[\u001b[0m\u001b[0mindices\u001b[0m\u001b[0;34m[\u001b[0m\u001b[0;36m0\u001b[0m\u001b[0;34m]\u001b[0m\u001b[0;34m,\u001b[0m \u001b[0mindices\u001b[0m\u001b[0;34m[\u001b[0m\u001b[0;36m1\u001b[0m\u001b[0;34m]\u001b[0m\u001b[0;34m]\u001b[0m \u001b[0;34m=\u001b[0m \u001b[0mindex_counts\u001b[0m\u001b[0;34m\u001b[0m\u001b[0m\n\u001b[0m\u001b[1;32m    138\u001b[0m     \u001b[0;32mif\u001b[0m \u001b[0mvb\u001b[0m\u001b[0;34m:\u001b[0m \u001b[0mprint\u001b[0m\u001b[0;34m(\u001b[0m\u001b[0mcm\u001b[0m\u001b[0;34m)\u001b[0m\u001b[0;34m\u001b[0m\u001b[0m\n\u001b[1;32m    139\u001b[0m \u001b[0;34m\u001b[0m\u001b[0m\n",
      "\u001b[0;31mIndexError\u001b[0m: arrays used as indices must be of integer (or boolean) type"
     ]
    }
   ],
   "source": [
    "proclam.det_to_cm(bbclass, truth_vec,vb=True)"
   ]
  },
  {
   "cell_type": "code",
   "execution_count": null,
   "metadata": {
    "collapsed": true
   },
   "outputs": [],
   "source": []
  }
 ],
 "metadata": {
  "kernelspec": {
   "display_name": "Python 3",
   "language": "python",
   "name": "python3"
  },
  "language_info": {
   "codemirror_mode": {
    "name": "ipython",
    "version": 3
   },
   "file_extension": ".py",
   "mimetype": "text/x-python",
   "name": "python",
   "nbconvert_exporter": "python",
   "pygments_lexer": "ipython3",
   "version": "3.6.3"
  }
 },
 "nbformat": 4,
 "nbformat_minor": 2
}
